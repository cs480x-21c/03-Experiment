{
 "cells": [
  {
   "cell_type": "code",
   "execution_count": 14,
   "metadata": {},
   "outputs": [],
   "source": [
    "import pandas as pd\n",
    "import math\n",
    "import numpy as np"
   ]
  },
  {
   "cell_type": "markdown",
   "metadata": {},
   "source": [
    "# Import Data"
   ]
  },
  {
   "cell_type": "code",
   "execution_count": 15,
   "metadata": {},
   "outputs": [],
   "source": [
    "users = {\"josh\": {1:[0,95,95],2:[2,23,27],3:[0,4,7],4:[1,96,98],5:[0,82,81],6:[1,45,47],7:[0,54,60],8:[0,72,72],9:[0,20,23],10:[0,5,6],11:[2,98,99],12:[1,69,74],13:[1,47,50],14:[2,93,96],15:[0,57,60],16:[1,84,87],17:[0,20,23],18:[1,46,45],19:[2,50,50],20:[1,70,73],21:[2,54,57],22:[0,73,74],23:[1,1,4],24:[1,85,88],25:[2,39,40],26:[1,90,80],27:[0,3,5],28:[2,93,95],29:[0,97,97],30:[2,95,94],31:[2,88,94],32:[1,1,2],33:[1,18,19],34:[1,34,38],35:[2,75,81],36:[2,88,95],37:[2,28,30],38:[0,4,7],39:[1,44,48],40:[1,8,11],41:[0,34,40],42:[2,38,44],43:[1,31,36],44:[1,10,15],45:[2,57,60],46:[2,44,38],47:[2,64,65],48:[1,18,18],49:[2,64,63],50:[0,61,66],51:[2,69,72],52:[1,71,76],53:[1,81,80],54:[0,70,69],55:[2,32,30],56:[0,58,63],57:[2,18,19],58:[0,82,80],59:[0,14,19],60:[0,68,84]},\n",
    "#          \"user2\": {1:[1,6,3],2:[1,65,3],3:[2,86,3],4:[1,1,3],5:[0,6,3]},\n",
    "#          \"user3\": {1:[2,58,5],2:[1,98,5],3:[2,11,6],4:[0,84,7]},\n",
    "        }"
   ]
  },
  {
   "cell_type": "code",
   "execution_count": 16,
   "metadata": {},
   "outputs": [],
   "source": [
    "count = 0\n",
    "list_of_df = []\n",
    "for key in users:\n",
    "    df = pd.DataFrame.from_dict(users[key], \n",
    "                             orient='index', \n",
    "                             columns=['type', 'true', 'predicted'])\n",
    "    df['user'] = key\n",
    "    list_of_df.append(df)\n",
    "    count+= 1\n",
    "compiled = pd.concat(list_of_df)"
   ]
  },
  {
   "cell_type": "code",
   "execution_count": 17,
   "metadata": {},
   "outputs": [],
   "source": [
    "black = compiled.loc[compiled['type'] == 0].reset_index(drop=\"True\")\n",
    "grayscale = compiled.loc[compiled['type'] == 1].reset_index(drop=\"True\")\n",
    "colored = compiled.loc[compiled['type'] == 2].reset_index(drop=\"True\")"
   ]
  },
  {
   "cell_type": "markdown",
   "metadata": {},
   "source": [
    "# Analyze Results"
   ]
  },
  {
   "cell_type": "code",
   "execution_count": null,
   "metadata": {},
   "outputs": [],
   "source": []
  }
 ],
 "metadata": {
  "kernelspec": {
   "display_name": "Python 3",
   "language": "python",
   "name": "python3"
  },
  "language_info": {
   "codemirror_mode": {
    "name": "ipython",
    "version": 3
   },
   "file_extension": ".py",
   "mimetype": "text/x-python",
   "name": "python",
   "nbconvert_exporter": "python",
   "pygments_lexer": "ipython3",
   "version": "3.7.9"
  }
 },
 "nbformat": 4,
 "nbformat_minor": 4
}
