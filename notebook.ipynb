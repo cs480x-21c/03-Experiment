{
 "cells": [
  {
   "cell_type": "code",
   "execution_count": 19,
   "metadata": {},
   "outputs": [],
   "source": [
    "import numpy as np\n",
    "from scipy.stats import bootstrap, norm\n",
    "import pandas as pd\n",
    "import matplotlib.pyplot as plt\n",
    "import seaborn as sns\n",
    "\n",
    "sns.set_theme(style=\"ticks\")"
   ]
  },
  {
   "cell_type": "code",
   "execution_count": 20,
   "metadata": {},
   "outputs": [],
   "source": [
    "df = pd.read_csv(\"results.csv\")\n",
    "df.loc[:, [\"vis\", \"error\"]].groupby([\"vis\"]).mean()\n",
    "\n",
    "df_bar = df[df[\"vis\"] == \"bar\"]\n",
    "df_pie = df[df[\"vis\"] == \"pie\"]\n",
    "df_tree = df[df[\"vis\"] == \"treemap\"]"
   ]
  },
  {
   "cell_type": "code",
   "execution_count": 21,
   "metadata": {},
   "outputs": [
    {
     "name": "stdout",
     "output_type": "stream",
     "text": [
      "ConfidenceInterval(low=0.1699250014423123, high=1.087462841250339)\n",
      "ConfidenceInterval(low=1.6438561897747248, high=2.0443941193584534)\n",
      "ConfidenceInterval(low=2.357552004618084, high=2.8328900141647417)\n"
     ]
    }
   ],
   "source": [
    "bs_bar = bootstrap((df_bar.error,), np.median, confidence_level=0.95, method=\"percentile\")\n",
    "bs_pie = bootstrap((df_pie.error,), np.median, confidence_level=0.95, method=\"percentile\")\n",
    "bs_tree = bootstrap((df_tree.error,), np.median, confidence_level=0.95, method=\"percentile\")\n",
    "\n",
    "print(bs_bar.confidence_interval)\n",
    "print(bs_pie.confidence_interval)\n",
    "print(bs_tree.confidence_interval)"
   ]
  },
  {
   "cell_type": "code",
   "execution_count": 24,
   "metadata": {},
   "outputs": [
    {
     "data": {
      "image/png": "[encoded data removed]",
      "text/plain": [
       "<Figure size 576x288 with 1 Axes>"
      ]
     },
     "metadata": {},
     "output_type": "display_data"
    }
   ],
   "source": [
    "df[\"vis\"] = df[\"vis\"].replace({\"bar\": \"Bar Chart\", \"pie\": \"Pie Chart\", \"treemap\": \"Treemap\"})\n",
    "sns.catplot(x=\"error\", y=\"vis\", data=df, kind=\"point\", join=False, capsize=0.1, ci=95, bootstrap=True, n_boot=1000, palette=\"Set1\", height=4, aspect=2)\n",
    "plt.xlabel(\"Log Error\")\n",
    "plt.ylabel(\"\")\n",
    "plt.show()"
   ]
  }
 ],
 "metadata": {
  "kernelspec": {
   "display_name": "Python 3.8.10 64-bit",
   "language": "python",
   "name": "python3"
  },
  "language_info": {
   "codemirror_mode": {
    "name": "ipython",
    "version": 3
   },
   "file_extension": ".py",
   "mimetype": "text/x-python",
   "name": "python",
   "nbconvert_exporter": "python",
   "pygments_lexer": "ipython3",
   "version": "3.8.10"
  },
  "orig_nbformat": 4,
  "vscode": {
   "interpreter": {
    "hash": "767d51c1340bd893661ea55ea3124f6de3c7a262a8b4abca0554b478b1e2ff90"
   }
  }
 },
 "nbformat": 4,
 "nbformat_minor": 2
}
